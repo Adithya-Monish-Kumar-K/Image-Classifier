{
 "cells": [
  {
   "cell_type": "markdown",
   "id": "a7482461",
   "metadata": {},
   "source": [
    "# Cats vs Dogs Transfer Learning Notebook\n",
    "Comprehensive end-to-end workflow: dataset prep, transfer learning (feature extraction + fine-tuning), evaluation, error analysis, export, and optional tuning / tracking.\n",
    "\n",
    "Run sections sequentially; cells are modular. Adjust `DATA_ROOT` to where you extracted the Kaggle dataset.\n"
   ]
  },
  {
   "cell_type": "code",
   "execution_count": null,
   "id": "f39bbdb7",
   "metadata": {},
   "outputs": [],
   "source": [
    "# 1. Project Configuration & Environment Check\n",
    "import os, sys, random, platform, multiprocessing, math, time, pathlib\n",
    "import numpy as np\n",
    "import tensorflow as tf\n",
    "print('Python version:', sys.version)\n",
    "print('TensorFlow version:', tf.__version__)\n",
    "print('Platform:', platform.platform())\n",
    "print('Physical cores:', multiprocessing.cpu_count())\n",
    "print('GPUs:', len(tf.config.list_physical_devices('GPU')))\n",
    "SEED = 42\n",
    "random.seed(SEED); np.random.seed(SEED); tf.random.set_seed(SEED)\n",
    "# Mixed precision if GPU with float16 capability\n",
    "from tensorflow.keras import mixed_precision\n",
    "if tf.config.list_physical_devices('GPU'):\n",
    "    try:\n",
    "        mixed_precision.set_global_policy('mixed_float16')\n",
    "        print('Mixed precision enabled')\n",
    "    except Exception as e:\n",
    "        print('Could not enable mixed precision:', e)\n",
    "DATA_ROOT = pathlib.Path('../data/PetImages')  # adjust if needed\n",
    "RAW_ARCHIVE = pathlib.Path('../data/raw')\n",
    "SPLIT_ROOT = pathlib.Path('../data/split')\n",
    "for p in [DATA_ROOT, RAW_ARCHIVE, SPLIT_ROOT]:\n",
    "    p.mkdir(parents=True, exist_ok=True)\n"
   ]
  },
  {
   "cell_type": "code",
   "execution_count": null,
   "id": "35caffd2",
   "metadata": {},
   "outputs": [],
   "source": [
    "# 2. Install & Import Dependencies\n",
    "# (If running in a fresh environment you may need to pip install; skipped here assuming requirements installed.)\n",
    "import matplotlib.pyplot as plt\n",
    "from sklearn.model_selection import train_test_split\n",
    "from sklearn.metrics import classification_report, confusion_matrix, roc_curve, auc, precision_recall_fscore_support\n",
    "import itertools\n"
   ]
  },
  {
   "cell_type": "code",
   "execution_count": null,
   "id": "e8c93b56",
   "metadata": {},
   "outputs": [],
   "source": [
    "# 3. Download & Prepare Dataset (Kaggle Cats vs Dogs)\n",
    "# Placeholder: Kaggle download requires kaggle.json credentials.\n",
    "# Example (uncomment if credentials configured):\n",
    "# !kaggle datasets download -d tongpython/cat-and-dog -p ../data/raw\n",
    "# !unzip -o ../data/raw/cat-and-dog.zip -d ../data/raw\n",
    "print('Assuming dataset already present at', DATA_ROOT)\n"
   ]
  },
  {
   "cell_type": "code",
   "execution_count": null,
   "id": "5ef69df6",
   "metadata": {},
   "outputs": [],
   "source": [
    "# 4. Directory Structure Verification\n",
    "from collections import Counter\n",
    "classes = []\n",
    "counts = {}\n",
    "if DATA_ROOT.exists():\n",
    "    for cls in sorted([d for d in DATA_ROOT.iterdir() if d.is_dir()]):\n",
    "        classes.append(cls.name)\n",
    "        counts[cls.name] = sum(1 for _ in cls.glob('*.jpg'))\n",
    "print('Classes:', classes)\n",
    "print('Counts:', counts)\n",
    "assert all(c > 0 for c in counts.values()), 'One of the classes has zero images.'\n"
   ]
  }
 ],
 "metadata": {
  "language_info": {
   "name": "python"
  }
 },
 "nbformat": 4,
 "nbformat_minor": 5
}
